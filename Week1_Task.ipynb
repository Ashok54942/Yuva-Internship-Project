{
  "nbformat": 4,
  "nbformat_minor": 0,
  "metadata": {
    "colab": {
      "provenance": []
    },
    "kernelspec": {
      "name": "python3",
      "display_name": "Python 3"
    },
    "language_info": {
      "name": "python"
    }
  },
  "cells": [
    {
      "cell_type": "code",
      "execution_count": 1,
      "metadata": {
        "colab": {
          "base_uri": "https://localhost:8080/"
        },
        "id": "Rh3XJpyPdkdG",
        "outputId": "7144cc56-5bb4-40d0-d3ef-3b32a36b7380"
      },
      "outputs": [
        {
          "output_type": "stream",
          "name": "stdout",
          "text": [
            "Mounted at /content/drive\n"
          ]
        }
      ],
      "source": [
        "from google.colab import drive\n",
        "drive.mount('/content/drive')"
      ]
    },
    {
      "cell_type": "code",
      "source": [
        "# Importing necessary libraries\n",
        "import pandas as pd\n",
        "import numpy as np\n",
        "import seaborn as sns\n",
        "import matplotlib.pyplot as plt\n",
        "import pandas as pd\n",
        "from IPython.display import display\n",
        "\n",
        "# Load the dataset\n",
        "file_path = '/content/drive/MyDrive/MELBOURNE_HOUSE_PRICES_LESS.csv'\n",
        "df = pd.read_csv(file_path)\n",
        "\n",
        "# Show first 5 rows\n",
        "display(\n",
        "    df.head()\n",
        "      .style.set_caption(\"First 5 rows \")\n",
        "      .set_table_attributes(\"style='display:inline;border:1px solid black;border-collapse:collapse;'\")\n",
        "      .set_properties(**{\"border\": \"1px solid black\", \"padding\": \"5px\"})\n",
        ")\n",
        "\n"
      ],
      "metadata": {
        "colab": {
          "base_uri": "https://localhost:8080/",
          "height": 224
        },
        "id": "WEZKVzhuep9r",
        "outputId": "582e9bbd-459c-480b-8356-708da8d465d6"
      },
      "execution_count": 13,
      "outputs": [
        {
          "output_type": "display_data",
          "data": {
            "text/plain": [
              "<pandas.io.formats.style.Styler at 0x7bd21d48d460>"
            ],
            "text/html": [
              "<style type=\"text/css\">\n",
              "#T_59514_row0_col0, #T_59514_row0_col1, #T_59514_row0_col2, #T_59514_row0_col3, #T_59514_row0_col4, #T_59514_row0_col5, #T_59514_row0_col6, #T_59514_row0_col7, #T_59514_row0_col8, #T_59514_row0_col9, #T_59514_row0_col10, #T_59514_row0_col11, #T_59514_row0_col12, #T_59514_row1_col0, #T_59514_row1_col1, #T_59514_row1_col2, #T_59514_row1_col3, #T_59514_row1_col4, #T_59514_row1_col5, #T_59514_row1_col6, #T_59514_row1_col7, #T_59514_row1_col8, #T_59514_row1_col9, #T_59514_row1_col10, #T_59514_row1_col11, #T_59514_row1_col12, #T_59514_row2_col0, #T_59514_row2_col1, #T_59514_row2_col2, #T_59514_row2_col3, #T_59514_row2_col4, #T_59514_row2_col5, #T_59514_row2_col6, #T_59514_row2_col7, #T_59514_row2_col8, #T_59514_row2_col9, #T_59514_row2_col10, #T_59514_row2_col11, #T_59514_row2_col12, #T_59514_row3_col0, #T_59514_row3_col1, #T_59514_row3_col2, #T_59514_row3_col3, #T_59514_row3_col4, #T_59514_row3_col5, #T_59514_row3_col6, #T_59514_row3_col7, #T_59514_row3_col8, #T_59514_row3_col9, #T_59514_row3_col10, #T_59514_row3_col11, #T_59514_row3_col12, #T_59514_row4_col0, #T_59514_row4_col1, #T_59514_row4_col2, #T_59514_row4_col3, #T_59514_row4_col4, #T_59514_row4_col5, #T_59514_row4_col6, #T_59514_row4_col7, #T_59514_row4_col8, #T_59514_row4_col9, #T_59514_row4_col10, #T_59514_row4_col11, #T_59514_row4_col12 {\n",
              "  border: 1px solid black;\n",
              "  padding: 5px;\n",
              "}\n",
              "</style>\n",
              "<table id=\"T_59514\" class=\"dataframe\">\n",
              "  <caption>First 5 rows </caption>\n",
              "  <thead>\n",
              "    <tr>\n",
              "      <th class=\"blank level0\" >&nbsp;</th>\n",
              "      <th id=\"T_59514_level0_col0\" class=\"col_heading level0 col0\" >Suburb</th>\n",
              "      <th id=\"T_59514_level0_col1\" class=\"col_heading level0 col1\" >Address</th>\n",
              "      <th id=\"T_59514_level0_col2\" class=\"col_heading level0 col2\" >Rooms</th>\n",
              "      <th id=\"T_59514_level0_col3\" class=\"col_heading level0 col3\" >Type</th>\n",
              "      <th id=\"T_59514_level0_col4\" class=\"col_heading level0 col4\" >Price</th>\n",
              "      <th id=\"T_59514_level0_col5\" class=\"col_heading level0 col5\" >Method</th>\n",
              "      <th id=\"T_59514_level0_col6\" class=\"col_heading level0 col6\" >SellerG</th>\n",
              "      <th id=\"T_59514_level0_col7\" class=\"col_heading level0 col7\" >Date</th>\n",
              "      <th id=\"T_59514_level0_col8\" class=\"col_heading level0 col8\" >Postcode</th>\n",
              "      <th id=\"T_59514_level0_col9\" class=\"col_heading level0 col9\" >Regionname</th>\n",
              "      <th id=\"T_59514_level0_col10\" class=\"col_heading level0 col10\" >Propertycount</th>\n",
              "      <th id=\"T_59514_level0_col11\" class=\"col_heading level0 col11\" >Distance</th>\n",
              "      <th id=\"T_59514_level0_col12\" class=\"col_heading level0 col12\" >CouncilArea</th>\n",
              "    </tr>\n",
              "  </thead>\n",
              "  <tbody>\n",
              "    <tr>\n",
              "      <th id=\"T_59514_level0_row0\" class=\"row_heading level0 row0\" >0</th>\n",
              "      <td id=\"T_59514_row0_col0\" class=\"data row0 col0\" >Abbotsford</td>\n",
              "      <td id=\"T_59514_row0_col1\" class=\"data row0 col1\" >49 Lithgow St</td>\n",
              "      <td id=\"T_59514_row0_col2\" class=\"data row0 col2\" >3</td>\n",
              "      <td id=\"T_59514_row0_col3\" class=\"data row0 col3\" >h</td>\n",
              "      <td id=\"T_59514_row0_col4\" class=\"data row0 col4\" >1490000.000000</td>\n",
              "      <td id=\"T_59514_row0_col5\" class=\"data row0 col5\" >S</td>\n",
              "      <td id=\"T_59514_row0_col6\" class=\"data row0 col6\" >Jellis</td>\n",
              "      <td id=\"T_59514_row0_col7\" class=\"data row0 col7\" >1/04/2017</td>\n",
              "      <td id=\"T_59514_row0_col8\" class=\"data row0 col8\" >3067</td>\n",
              "      <td id=\"T_59514_row0_col9\" class=\"data row0 col9\" >Northern Metropolitan</td>\n",
              "      <td id=\"T_59514_row0_col10\" class=\"data row0 col10\" >4019</td>\n",
              "      <td id=\"T_59514_row0_col11\" class=\"data row0 col11\" >3.000000</td>\n",
              "      <td id=\"T_59514_row0_col12\" class=\"data row0 col12\" >Yarra City Council</td>\n",
              "    </tr>\n",
              "    <tr>\n",
              "      <th id=\"T_59514_level0_row1\" class=\"row_heading level0 row1\" >1</th>\n",
              "      <td id=\"T_59514_row1_col0\" class=\"data row1 col0\" >Abbotsford</td>\n",
              "      <td id=\"T_59514_row1_col1\" class=\"data row1 col1\" >59A Turner St</td>\n",
              "      <td id=\"T_59514_row1_col2\" class=\"data row1 col2\" >3</td>\n",
              "      <td id=\"T_59514_row1_col3\" class=\"data row1 col3\" >h</td>\n",
              "      <td id=\"T_59514_row1_col4\" class=\"data row1 col4\" >1220000.000000</td>\n",
              "      <td id=\"T_59514_row1_col5\" class=\"data row1 col5\" >S</td>\n",
              "      <td id=\"T_59514_row1_col6\" class=\"data row1 col6\" >Marshall</td>\n",
              "      <td id=\"T_59514_row1_col7\" class=\"data row1 col7\" >1/04/2017</td>\n",
              "      <td id=\"T_59514_row1_col8\" class=\"data row1 col8\" >3067</td>\n",
              "      <td id=\"T_59514_row1_col9\" class=\"data row1 col9\" >Northern Metropolitan</td>\n",
              "      <td id=\"T_59514_row1_col10\" class=\"data row1 col10\" >4019</td>\n",
              "      <td id=\"T_59514_row1_col11\" class=\"data row1 col11\" >3.000000</td>\n",
              "      <td id=\"T_59514_row1_col12\" class=\"data row1 col12\" >Yarra City Council</td>\n",
              "    </tr>\n",
              "    <tr>\n",
              "      <th id=\"T_59514_level0_row2\" class=\"row_heading level0 row2\" >2</th>\n",
              "      <td id=\"T_59514_row2_col0\" class=\"data row2 col0\" >Abbotsford</td>\n",
              "      <td id=\"T_59514_row2_col1\" class=\"data row2 col1\" >119B Yarra St</td>\n",
              "      <td id=\"T_59514_row2_col2\" class=\"data row2 col2\" >3</td>\n",
              "      <td id=\"T_59514_row2_col3\" class=\"data row2 col3\" >h</td>\n",
              "      <td id=\"T_59514_row2_col4\" class=\"data row2 col4\" >1420000.000000</td>\n",
              "      <td id=\"T_59514_row2_col5\" class=\"data row2 col5\" >S</td>\n",
              "      <td id=\"T_59514_row2_col6\" class=\"data row2 col6\" >Nelson</td>\n",
              "      <td id=\"T_59514_row2_col7\" class=\"data row2 col7\" >1/04/2017</td>\n",
              "      <td id=\"T_59514_row2_col8\" class=\"data row2 col8\" >3067</td>\n",
              "      <td id=\"T_59514_row2_col9\" class=\"data row2 col9\" >Northern Metropolitan</td>\n",
              "      <td id=\"T_59514_row2_col10\" class=\"data row2 col10\" >4019</td>\n",
              "      <td id=\"T_59514_row2_col11\" class=\"data row2 col11\" >3.000000</td>\n",
              "      <td id=\"T_59514_row2_col12\" class=\"data row2 col12\" >Yarra City Council</td>\n",
              "    </tr>\n",
              "    <tr>\n",
              "      <th id=\"T_59514_level0_row3\" class=\"row_heading level0 row3\" >3</th>\n",
              "      <td id=\"T_59514_row3_col0\" class=\"data row3 col0\" >Aberfeldie</td>\n",
              "      <td id=\"T_59514_row3_col1\" class=\"data row3 col1\" >68 Vida St</td>\n",
              "      <td id=\"T_59514_row3_col2\" class=\"data row3 col2\" >3</td>\n",
              "      <td id=\"T_59514_row3_col3\" class=\"data row3 col3\" >h</td>\n",
              "      <td id=\"T_59514_row3_col4\" class=\"data row3 col4\" >1515000.000000</td>\n",
              "      <td id=\"T_59514_row3_col5\" class=\"data row3 col5\" >S</td>\n",
              "      <td id=\"T_59514_row3_col6\" class=\"data row3 col6\" >Barry</td>\n",
              "      <td id=\"T_59514_row3_col7\" class=\"data row3 col7\" >1/04/2017</td>\n",
              "      <td id=\"T_59514_row3_col8\" class=\"data row3 col8\" >3040</td>\n",
              "      <td id=\"T_59514_row3_col9\" class=\"data row3 col9\" >Western Metropolitan</td>\n",
              "      <td id=\"T_59514_row3_col10\" class=\"data row3 col10\" >1543</td>\n",
              "      <td id=\"T_59514_row3_col11\" class=\"data row3 col11\" >7.500000</td>\n",
              "      <td id=\"T_59514_row3_col12\" class=\"data row3 col12\" >Moonee Valley City Council</td>\n",
              "    </tr>\n",
              "    <tr>\n",
              "      <th id=\"T_59514_level0_row4\" class=\"row_heading level0 row4\" >4</th>\n",
              "      <td id=\"T_59514_row4_col0\" class=\"data row4 col0\" >Airport West</td>\n",
              "      <td id=\"T_59514_row4_col1\" class=\"data row4 col1\" >92 Clydesdale Rd</td>\n",
              "      <td id=\"T_59514_row4_col2\" class=\"data row4 col2\" >2</td>\n",
              "      <td id=\"T_59514_row4_col3\" class=\"data row4 col3\" >h</td>\n",
              "      <td id=\"T_59514_row4_col4\" class=\"data row4 col4\" >670000.000000</td>\n",
              "      <td id=\"T_59514_row4_col5\" class=\"data row4 col5\" >S</td>\n",
              "      <td id=\"T_59514_row4_col6\" class=\"data row4 col6\" >Nelson</td>\n",
              "      <td id=\"T_59514_row4_col7\" class=\"data row4 col7\" >1/04/2017</td>\n",
              "      <td id=\"T_59514_row4_col8\" class=\"data row4 col8\" >3042</td>\n",
              "      <td id=\"T_59514_row4_col9\" class=\"data row4 col9\" >Western Metropolitan</td>\n",
              "      <td id=\"T_59514_row4_col10\" class=\"data row4 col10\" >3464</td>\n",
              "      <td id=\"T_59514_row4_col11\" class=\"data row4 col11\" >10.400000</td>\n",
              "      <td id=\"T_59514_row4_col12\" class=\"data row4 col12\" >Moonee Valley City Council</td>\n",
              "    </tr>\n",
              "  </tbody>\n",
              "</table>\n"
            ]
          },
          "metadata": {}
        }
      ]
    },
    {
      "cell_type": "code",
      "source": [
        "import pandas as pd\n",
        "from IPython.display import display\n",
        "\n",
        "# Dataset dimensions in a table\n",
        "dims = pd.DataFrame({\n",
        "    \"Metric\": [\"Rows\", \"Columns\"],\n",
        "    \"Count\": [df.shape[0], df.shape[1]]\n",
        "})\n",
        "display(dims.style.set_caption(\"Dataset Dimensions\"))\n",
        "\n",
        "# Dataset info in a table\n",
        "info = pd.DataFrame({\n",
        "    \"Column\": df.columns,\n",
        "    \"Non-Null Count\": df.notnull().sum().values,\n",
        "    \"Null Count\": df.isnull().sum().values,\n",
        "    \"Dtype\": df.dtypes.values\n",
        "})\n",
        "display(info.style.set_caption(\"DataFrame Info\"))\n"
      ],
      "metadata": {
        "colab": {
          "base_uri": "https://localhost:8080/",
          "height": 586
        },
        "id": "tVRi_0IbpNRp",
        "outputId": "01193540-f011-4563-da7d-96039cdb8d49"
      },
      "execution_count": 15,
      "outputs": [
        {
          "output_type": "display_data",
          "data": {
            "text/plain": [
              "<pandas.io.formats.style.Styler at 0x7bd21d4d0ef0>"
            ],
            "text/html": [
              "<style type=\"text/css\">\n",
              "</style>\n",
              "<table id=\"T_92ec9\" class=\"dataframe\">\n",
              "  <caption>Dataset Dimensions</caption>\n",
              "  <thead>\n",
              "    <tr>\n",
              "      <th class=\"blank level0\" >&nbsp;</th>\n",
              "      <th id=\"T_92ec9_level0_col0\" class=\"col_heading level0 col0\" >Metric</th>\n",
              "      <th id=\"T_92ec9_level0_col1\" class=\"col_heading level0 col1\" >Count</th>\n",
              "    </tr>\n",
              "  </thead>\n",
              "  <tbody>\n",
              "    <tr>\n",
              "      <th id=\"T_92ec9_level0_row0\" class=\"row_heading level0 row0\" >0</th>\n",
              "      <td id=\"T_92ec9_row0_col0\" class=\"data row0 col0\" >Rows</td>\n",
              "      <td id=\"T_92ec9_row0_col1\" class=\"data row0 col1\" >63023</td>\n",
              "    </tr>\n",
              "    <tr>\n",
              "      <th id=\"T_92ec9_level0_row1\" class=\"row_heading level0 row1\" >1</th>\n",
              "      <td id=\"T_92ec9_row1_col0\" class=\"data row1 col0\" >Columns</td>\n",
              "      <td id=\"T_92ec9_row1_col1\" class=\"data row1 col1\" >13</td>\n",
              "    </tr>\n",
              "  </tbody>\n",
              "</table>\n"
            ]
          },
          "metadata": {}
        },
        {
          "output_type": "display_data",
          "data": {
            "text/plain": [
              "<pandas.io.formats.style.Styler at 0x7bd221c8e120>"
            ],
            "text/html": [
              "<style type=\"text/css\">\n",
              "</style>\n",
              "<table id=\"T_8f752\" class=\"dataframe\">\n",
              "  <caption>DataFrame Info</caption>\n",
              "  <thead>\n",
              "    <tr>\n",
              "      <th class=\"blank level0\" >&nbsp;</th>\n",
              "      <th id=\"T_8f752_level0_col0\" class=\"col_heading level0 col0\" >Column</th>\n",
              "      <th id=\"T_8f752_level0_col1\" class=\"col_heading level0 col1\" >Non-Null Count</th>\n",
              "      <th id=\"T_8f752_level0_col2\" class=\"col_heading level0 col2\" >Null Count</th>\n",
              "      <th id=\"T_8f752_level0_col3\" class=\"col_heading level0 col3\" >Dtype</th>\n",
              "    </tr>\n",
              "  </thead>\n",
              "  <tbody>\n",
              "    <tr>\n",
              "      <th id=\"T_8f752_level0_row0\" class=\"row_heading level0 row0\" >0</th>\n",
              "      <td id=\"T_8f752_row0_col0\" class=\"data row0 col0\" >Suburb</td>\n",
              "      <td id=\"T_8f752_row0_col1\" class=\"data row0 col1\" >63023</td>\n",
              "      <td id=\"T_8f752_row0_col2\" class=\"data row0 col2\" >0</td>\n",
              "      <td id=\"T_8f752_row0_col3\" class=\"data row0 col3\" >object</td>\n",
              "    </tr>\n",
              "    <tr>\n",
              "      <th id=\"T_8f752_level0_row1\" class=\"row_heading level0 row1\" >1</th>\n",
              "      <td id=\"T_8f752_row1_col0\" class=\"data row1 col0\" >Address</td>\n",
              "      <td id=\"T_8f752_row1_col1\" class=\"data row1 col1\" >63023</td>\n",
              "      <td id=\"T_8f752_row1_col2\" class=\"data row1 col2\" >0</td>\n",
              "      <td id=\"T_8f752_row1_col3\" class=\"data row1 col3\" >object</td>\n",
              "    </tr>\n",
              "    <tr>\n",
              "      <th id=\"T_8f752_level0_row2\" class=\"row_heading level0 row2\" >2</th>\n",
              "      <td id=\"T_8f752_row2_col0\" class=\"data row2 col0\" >Rooms</td>\n",
              "      <td id=\"T_8f752_row2_col1\" class=\"data row2 col1\" >63023</td>\n",
              "      <td id=\"T_8f752_row2_col2\" class=\"data row2 col2\" >0</td>\n",
              "      <td id=\"T_8f752_row2_col3\" class=\"data row2 col3\" >int64</td>\n",
              "    </tr>\n",
              "    <tr>\n",
              "      <th id=\"T_8f752_level0_row3\" class=\"row_heading level0 row3\" >3</th>\n",
              "      <td id=\"T_8f752_row3_col0\" class=\"data row3 col0\" >Type</td>\n",
              "      <td id=\"T_8f752_row3_col1\" class=\"data row3 col1\" >63023</td>\n",
              "      <td id=\"T_8f752_row3_col2\" class=\"data row3 col2\" >0</td>\n",
              "      <td id=\"T_8f752_row3_col3\" class=\"data row3 col3\" >object</td>\n",
              "    </tr>\n",
              "    <tr>\n",
              "      <th id=\"T_8f752_level0_row4\" class=\"row_heading level0 row4\" >4</th>\n",
              "      <td id=\"T_8f752_row4_col0\" class=\"data row4 col0\" >Price</td>\n",
              "      <td id=\"T_8f752_row4_col1\" class=\"data row4 col1\" >48433</td>\n",
              "      <td id=\"T_8f752_row4_col2\" class=\"data row4 col2\" >14590</td>\n",
              "      <td id=\"T_8f752_row4_col3\" class=\"data row4 col3\" >float64</td>\n",
              "    </tr>\n",
              "    <tr>\n",
              "      <th id=\"T_8f752_level0_row5\" class=\"row_heading level0 row5\" >5</th>\n",
              "      <td id=\"T_8f752_row5_col0\" class=\"data row5 col0\" >Method</td>\n",
              "      <td id=\"T_8f752_row5_col1\" class=\"data row5 col1\" >63023</td>\n",
              "      <td id=\"T_8f752_row5_col2\" class=\"data row5 col2\" >0</td>\n",
              "      <td id=\"T_8f752_row5_col3\" class=\"data row5 col3\" >object</td>\n",
              "    </tr>\n",
              "    <tr>\n",
              "      <th id=\"T_8f752_level0_row6\" class=\"row_heading level0 row6\" >6</th>\n",
              "      <td id=\"T_8f752_row6_col0\" class=\"data row6 col0\" >SellerG</td>\n",
              "      <td id=\"T_8f752_row6_col1\" class=\"data row6 col1\" >63023</td>\n",
              "      <td id=\"T_8f752_row6_col2\" class=\"data row6 col2\" >0</td>\n",
              "      <td id=\"T_8f752_row6_col3\" class=\"data row6 col3\" >object</td>\n",
              "    </tr>\n",
              "    <tr>\n",
              "      <th id=\"T_8f752_level0_row7\" class=\"row_heading level0 row7\" >7</th>\n",
              "      <td id=\"T_8f752_row7_col0\" class=\"data row7 col0\" >Date</td>\n",
              "      <td id=\"T_8f752_row7_col1\" class=\"data row7 col1\" >63023</td>\n",
              "      <td id=\"T_8f752_row7_col2\" class=\"data row7 col2\" >0</td>\n",
              "      <td id=\"T_8f752_row7_col3\" class=\"data row7 col3\" >object</td>\n",
              "    </tr>\n",
              "    <tr>\n",
              "      <th id=\"T_8f752_level0_row8\" class=\"row_heading level0 row8\" >8</th>\n",
              "      <td id=\"T_8f752_row8_col0\" class=\"data row8 col0\" >Postcode</td>\n",
              "      <td id=\"T_8f752_row8_col1\" class=\"data row8 col1\" >63023</td>\n",
              "      <td id=\"T_8f752_row8_col2\" class=\"data row8 col2\" >0</td>\n",
              "      <td id=\"T_8f752_row8_col3\" class=\"data row8 col3\" >int64</td>\n",
              "    </tr>\n",
              "    <tr>\n",
              "      <th id=\"T_8f752_level0_row9\" class=\"row_heading level0 row9\" >9</th>\n",
              "      <td id=\"T_8f752_row9_col0\" class=\"data row9 col0\" >Regionname</td>\n",
              "      <td id=\"T_8f752_row9_col1\" class=\"data row9 col1\" >63023</td>\n",
              "      <td id=\"T_8f752_row9_col2\" class=\"data row9 col2\" >0</td>\n",
              "      <td id=\"T_8f752_row9_col3\" class=\"data row9 col3\" >object</td>\n",
              "    </tr>\n",
              "    <tr>\n",
              "      <th id=\"T_8f752_level0_row10\" class=\"row_heading level0 row10\" >10</th>\n",
              "      <td id=\"T_8f752_row10_col0\" class=\"data row10 col0\" >Propertycount</td>\n",
              "      <td id=\"T_8f752_row10_col1\" class=\"data row10 col1\" >63023</td>\n",
              "      <td id=\"T_8f752_row10_col2\" class=\"data row10 col2\" >0</td>\n",
              "      <td id=\"T_8f752_row10_col3\" class=\"data row10 col3\" >int64</td>\n",
              "    </tr>\n",
              "    <tr>\n",
              "      <th id=\"T_8f752_level0_row11\" class=\"row_heading level0 row11\" >11</th>\n",
              "      <td id=\"T_8f752_row11_col0\" class=\"data row11 col0\" >Distance</td>\n",
              "      <td id=\"T_8f752_row11_col1\" class=\"data row11 col1\" >63023</td>\n",
              "      <td id=\"T_8f752_row11_col2\" class=\"data row11 col2\" >0</td>\n",
              "      <td id=\"T_8f752_row11_col3\" class=\"data row11 col3\" >float64</td>\n",
              "    </tr>\n",
              "    <tr>\n",
              "      <th id=\"T_8f752_level0_row12\" class=\"row_heading level0 row12\" >12</th>\n",
              "      <td id=\"T_8f752_row12_col0\" class=\"data row12 col0\" >CouncilArea</td>\n",
              "      <td id=\"T_8f752_row12_col1\" class=\"data row12 col1\" >63023</td>\n",
              "      <td id=\"T_8f752_row12_col2\" class=\"data row12 col2\" >0</td>\n",
              "      <td id=\"T_8f752_row12_col3\" class=\"data row12 col3\" >object</td>\n",
              "    </tr>\n",
              "  </tbody>\n",
              "</table>\n"
            ]
          },
          "metadata": {}
        }
      ]
    },
    {
      "cell_type": "code",
      "source": [
        "# Summary statistics for numerical columns in table format\n",
        "summary_stats = df.describe().T  # transpose so columns are listed vertically\n",
        "display(\n",
        "    summary_stats\n",
        "      .style.set_caption(\"Summary Statistics\")\n",
        "      .set_table_attributes(\"style='display:inline;border:1px solid black;border-collapse:collapse;'\")\n",
        "      .set_properties(**{\"border\": \"1px solid black\", \"padding\": \"5px\"})\n",
        ")\n"
      ],
      "metadata": {
        "colab": {
          "base_uri": "https://localhost:8080/",
          "height": 224
        },
        "id": "DOMyMb75r7tE",
        "outputId": "a560ce0e-be7f-4da7-f8e8-3ff0ffd0afd2"
      },
      "execution_count": 17,
      "outputs": [
        {
          "output_type": "display_data",
          "data": {
            "text/plain": [
              "<pandas.io.formats.style.Styler at 0x7bd221613500>"
            ],
            "text/html": [
              "<style type=\"text/css\">\n",
              "#T_ec601_row0_col0, #T_ec601_row0_col1, #T_ec601_row0_col2, #T_ec601_row0_col3, #T_ec601_row0_col4, #T_ec601_row0_col5, #T_ec601_row0_col6, #T_ec601_row0_col7, #T_ec601_row1_col0, #T_ec601_row1_col1, #T_ec601_row1_col2, #T_ec601_row1_col3, #T_ec601_row1_col4, #T_ec601_row1_col5, #T_ec601_row1_col6, #T_ec601_row1_col7, #T_ec601_row2_col0, #T_ec601_row2_col1, #T_ec601_row2_col2, #T_ec601_row2_col3, #T_ec601_row2_col4, #T_ec601_row2_col5, #T_ec601_row2_col6, #T_ec601_row2_col7, #T_ec601_row3_col0, #T_ec601_row3_col1, #T_ec601_row3_col2, #T_ec601_row3_col3, #T_ec601_row3_col4, #T_ec601_row3_col5, #T_ec601_row3_col6, #T_ec601_row3_col7, #T_ec601_row4_col0, #T_ec601_row4_col1, #T_ec601_row4_col2, #T_ec601_row4_col3, #T_ec601_row4_col4, #T_ec601_row4_col5, #T_ec601_row4_col6, #T_ec601_row4_col7 {\n",
              "  border: 1px solid black;\n",
              "  padding: 5px;\n",
              "}\n",
              "</style>\n",
              "<table id=\"T_ec601\" class=\"dataframe\">\n",
              "  <caption>Summary Statistics</caption>\n",
              "  <thead>\n",
              "    <tr>\n",
              "      <th class=\"blank level0\" >&nbsp;</th>\n",
              "      <th id=\"T_ec601_level0_col0\" class=\"col_heading level0 col0\" >count</th>\n",
              "      <th id=\"T_ec601_level0_col1\" class=\"col_heading level0 col1\" >mean</th>\n",
              "      <th id=\"T_ec601_level0_col2\" class=\"col_heading level0 col2\" >std</th>\n",
              "      <th id=\"T_ec601_level0_col3\" class=\"col_heading level0 col3\" >min</th>\n",
              "      <th id=\"T_ec601_level0_col4\" class=\"col_heading level0 col4\" >25%</th>\n",
              "      <th id=\"T_ec601_level0_col5\" class=\"col_heading level0 col5\" >50%</th>\n",
              "      <th id=\"T_ec601_level0_col6\" class=\"col_heading level0 col6\" >75%</th>\n",
              "      <th id=\"T_ec601_level0_col7\" class=\"col_heading level0 col7\" >max</th>\n",
              "    </tr>\n",
              "  </thead>\n",
              "  <tbody>\n",
              "    <tr>\n",
              "      <th id=\"T_ec601_level0_row0\" class=\"row_heading level0 row0\" >Rooms</th>\n",
              "      <td id=\"T_ec601_row0_col0\" class=\"data row0 col0\" >63023.000000</td>\n",
              "      <td id=\"T_ec601_row0_col1\" class=\"data row0 col1\" >3.110595</td>\n",
              "      <td id=\"T_ec601_row0_col2\" class=\"data row0 col2\" >0.957551</td>\n",
              "      <td id=\"T_ec601_row0_col3\" class=\"data row0 col3\" >1.000000</td>\n",
              "      <td id=\"T_ec601_row0_col4\" class=\"data row0 col4\" >3.000000</td>\n",
              "      <td id=\"T_ec601_row0_col5\" class=\"data row0 col5\" >3.000000</td>\n",
              "      <td id=\"T_ec601_row0_col6\" class=\"data row0 col6\" >4.000000</td>\n",
              "      <td id=\"T_ec601_row0_col7\" class=\"data row0 col7\" >31.000000</td>\n",
              "    </tr>\n",
              "    <tr>\n",
              "      <th id=\"T_ec601_level0_row1\" class=\"row_heading level0 row1\" >Price</th>\n",
              "      <td id=\"T_ec601_row1_col0\" class=\"data row1 col0\" >48433.000000</td>\n",
              "      <td id=\"T_ec601_row1_col1\" class=\"data row1 col1\" >997898.241488</td>\n",
              "      <td id=\"T_ec601_row1_col2\" class=\"data row1 col2\" >593498.919037</td>\n",
              "      <td id=\"T_ec601_row1_col3\" class=\"data row1 col3\" >85000.000000</td>\n",
              "      <td id=\"T_ec601_row1_col4\" class=\"data row1 col4\" >620000.000000</td>\n",
              "      <td id=\"T_ec601_row1_col5\" class=\"data row1 col5\" >830000.000000</td>\n",
              "      <td id=\"T_ec601_row1_col6\" class=\"data row1 col6\" >1220000.000000</td>\n",
              "      <td id=\"T_ec601_row1_col7\" class=\"data row1 col7\" >11200000.000000</td>\n",
              "    </tr>\n",
              "    <tr>\n",
              "      <th id=\"T_ec601_level0_row2\" class=\"row_heading level0 row2\" >Postcode</th>\n",
              "      <td id=\"T_ec601_row2_col0\" class=\"data row2 col0\" >63023.000000</td>\n",
              "      <td id=\"T_ec601_row2_col1\" class=\"data row2 col1\" >3125.673897</td>\n",
              "      <td id=\"T_ec601_row2_col2\" class=\"data row2 col2\" >125.626877</td>\n",
              "      <td id=\"T_ec601_row2_col3\" class=\"data row2 col3\" >3000.000000</td>\n",
              "      <td id=\"T_ec601_row2_col4\" class=\"data row2 col4\" >3056.000000</td>\n",
              "      <td id=\"T_ec601_row2_col5\" class=\"data row2 col5\" >3107.000000</td>\n",
              "      <td id=\"T_ec601_row2_col6\" class=\"data row2 col6\" >3163.000000</td>\n",
              "      <td id=\"T_ec601_row2_col7\" class=\"data row2 col7\" >3980.000000</td>\n",
              "    </tr>\n",
              "    <tr>\n",
              "      <th id=\"T_ec601_level0_row3\" class=\"row_heading level0 row3\" >Propertycount</th>\n",
              "      <td id=\"T_ec601_row3_col0\" class=\"data row3 col0\" >63023.000000</td>\n",
              "      <td id=\"T_ec601_row3_col1\" class=\"data row3 col1\" >7617.728131</td>\n",
              "      <td id=\"T_ec601_row3_col2\" class=\"data row3 col2\" >4424.423167</td>\n",
              "      <td id=\"T_ec601_row3_col3\" class=\"data row3 col3\" >39.000000</td>\n",
              "      <td id=\"T_ec601_row3_col4\" class=\"data row3 col4\" >4380.000000</td>\n",
              "      <td id=\"T_ec601_row3_col5\" class=\"data row3 col5\" >6795.000000</td>\n",
              "      <td id=\"T_ec601_row3_col6\" class=\"data row3 col6\" >10412.000000</td>\n",
              "      <td id=\"T_ec601_row3_col7\" class=\"data row3 col7\" >21650.000000</td>\n",
              "    </tr>\n",
              "    <tr>\n",
              "      <th id=\"T_ec601_level0_row4\" class=\"row_heading level0 row4\" >Distance</th>\n",
              "      <td id=\"T_ec601_row4_col0\" class=\"data row4 col0\" >63023.000000</td>\n",
              "      <td id=\"T_ec601_row4_col1\" class=\"data row4 col1\" >12.684829</td>\n",
              "      <td id=\"T_ec601_row4_col2\" class=\"data row4 col2\" >7.592015</td>\n",
              "      <td id=\"T_ec601_row4_col3\" class=\"data row4 col3\" >0.000000</td>\n",
              "      <td id=\"T_ec601_row4_col4\" class=\"data row4 col4\" >7.000000</td>\n",
              "      <td id=\"T_ec601_row4_col5\" class=\"data row4 col5\" >11.400000</td>\n",
              "      <td id=\"T_ec601_row4_col6\" class=\"data row4 col6\" >16.700000</td>\n",
              "      <td id=\"T_ec601_row4_col7\" class=\"data row4 col7\" >64.100000</td>\n",
              "    </tr>\n",
              "  </tbody>\n",
              "</table>\n"
            ]
          },
          "metadata": {}
        }
      ]
    },
    {
      "cell_type": "code",
      "source": [
        "# Calculate the percentage of missing values for each column\n",
        "missing_percentage = df.isnull().sum() / len(df) * 100\n",
        "print(\"Percentage of missing values:\")\n",
        "print(missing_percentage)\n",
        "\n",
        "# Drop columns with more than 40% missing values\n",
        "cols_to_drop = missing_percentage[missing_percentage > 40].keys()\n",
        "df_cleaned = df.drop(columns=cols_to_drop)\n",
        "\n",
        "print(f\"\\nDropped columns: {list(cols_to_drop)}\")\n",
        "print(f\"New shape of the dataframe: {df_cleaned.shape}\")\n",
        "\n",
        "# Drop rows where the 'Price' is missing\n",
        "df_cleaned.dropna(subset=['Price'], inplace=True)\n",
        "print(f\"\\nShape after dropping rows with missing Price: {df_cleaned.shape}\")\n",
        "\n",
        "# Impute numerical columns with the median\n",
        "for col in ['Bathroom', 'Car', 'Landsize', 'Lattitude', 'Longtitude']:\n",
        "    if col in df_cleaned.columns:\n",
        "        median_val = df_cleaned[col].median()\n",
        "        df_cleaned[col].fillna(median_val, inplace=True)\n",
        "\n",
        "# Impute categorical columns with the mode\n",
        "for col in ['CouncilArea', 'Regionname']:\n",
        "     if col in df_cleaned.columns:\n",
        "        mode_val = df_cleaned[col].mode()[0]\n",
        "        df_cleaned[col].fillna(mode_val, inplace=True)\n",
        "\n",
        "# Verify that there are no more missing values\n",
        "print(\"\\nMissing values after imputation:\")\n",
        "print(df_cleaned.isnull().sum())"
      ],
      "metadata": {
        "colab": {
          "base_uri": "https://localhost:8080/"
        },
        "id": "fGYoZlt9uvmE",
        "outputId": "50c58984-0ab8-458b-8856-ef7cc259aeca"
      },
      "execution_count": 18,
      "outputs": [
        {
          "output_type": "stream",
          "name": "stdout",
          "text": [
            "Percentage of missing values:\n",
            "Suburb            0.000000\n",
            "Address           0.000000\n",
            "Rooms             0.000000\n",
            "Type              0.000000\n",
            "Price            23.150278\n",
            "Method            0.000000\n",
            "SellerG           0.000000\n",
            "Date              0.000000\n",
            "Postcode          0.000000\n",
            "Regionname        0.000000\n",
            "Propertycount     0.000000\n",
            "Distance          0.000000\n",
            "CouncilArea       0.000000\n",
            "dtype: float64\n",
            "\n",
            "Dropped columns: []\n",
            "New shape of the dataframe: (63023, 13)\n",
            "\n",
            "Shape after dropping rows with missing Price: (48433, 13)\n",
            "\n",
            "Missing values after imputation:\n",
            "Suburb           0\n",
            "Address          0\n",
            "Rooms            0\n",
            "Type             0\n",
            "Price            0\n",
            "Method           0\n",
            "SellerG          0\n",
            "Date             0\n",
            "Postcode         0\n",
            "Regionname       0\n",
            "Propertycount    0\n",
            "Distance         0\n",
            "CouncilArea      0\n",
            "dtype: int64\n"
          ]
        },
        {
          "output_type": "stream",
          "name": "stderr",
          "text": [
            "/tmp/ipython-input-1176746466.py:27: FutureWarning: A value is trying to be set on a copy of a DataFrame or Series through chained assignment using an inplace method.\n",
            "The behavior will change in pandas 3.0. This inplace method will never work because the intermediate object on which we are setting values always behaves as a copy.\n",
            "\n",
            "For example, when doing 'df[col].method(value, inplace=True)', try using 'df.method({col: value}, inplace=True)' or df[col] = df[col].method(value) instead, to perform the operation inplace on the original object.\n",
            "\n",
            "\n",
            "  df_cleaned[col].fillna(mode_val, inplace=True)\n"
          ]
        }
      ]
    },
    {
      "cell_type": "code",
      "source": [
        "# Convert 'Date' to datetime format\n",
        "df_cleaned['Date'] = pd.to_datetime(df_cleaned['Date'], format='%d/%m/%Y')\n",
        "\n",
        "# Convert columns that should be integers\n",
        "for col in ['Bathroom', 'Car', 'Postcode', 'Propertycount']:\n",
        "    if col in df_cleaned.columns:\n",
        "        df_cleaned[col] = df_cleaned[col].astype(int)\n",
        "\n",
        "# Verify the changes\n",
        "print(\"\\nData types after correction:\")\n",
        "df_cleaned.info()"
      ],
      "metadata": {
        "colab": {
          "base_uri": "https://localhost:8080/"
        },
        "id": "LLoFdTfmxjYB",
        "outputId": "1fd9dd27-6e9b-4ad1-862f-d8ac585f10d5"
      },
      "execution_count": 19,
      "outputs": [
        {
          "output_type": "stream",
          "name": "stdout",
          "text": [
            "\n",
            "Data types after correction:\n",
            "<class 'pandas.core.frame.DataFrame'>\n",
            "Index: 48433 entries, 0 to 63020\n",
            "Data columns (total 13 columns):\n",
            " #   Column         Non-Null Count  Dtype         \n",
            "---  ------         --------------  -----         \n",
            " 0   Suburb         48433 non-null  object        \n",
            " 1   Address        48433 non-null  object        \n",
            " 2   Rooms          48433 non-null  int64         \n",
            " 3   Type           48433 non-null  object        \n",
            " 4   Price          48433 non-null  float64       \n",
            " 5   Method         48433 non-null  object        \n",
            " 6   SellerG        48433 non-null  object        \n",
            " 7   Date           48433 non-null  datetime64[ns]\n",
            " 8   Postcode       48433 non-null  int64         \n",
            " 9   Regionname     48433 non-null  object        \n",
            " 10  Propertycount  48433 non-null  int64         \n",
            " 11  Distance       48433 non-null  float64       \n",
            " 12  CouncilArea    48433 non-null  object        \n",
            "dtypes: datetime64[ns](1), float64(2), int64(3), object(7)\n",
            "memory usage: 5.2+ MB\n"
          ]
        }
      ]
    },
    {
      "cell_type": "code",
      "source": [
        "# Visualize outliers with a boxplot for 'Price'\n",
        "plt.figure(figsize=(10, 4))\n",
        "sns.boxplot(x=df['Price'])\n",
        "plt.title('Boxplot of Price Before Outlier Handling')\n",
        "plt.show()\n"
      ],
      "metadata": {
        "colab": {
          "base_uri": "https://localhost:8080/",
          "height": 410
        },
        "id": "P1Z_f__4xqKF",
        "outputId": "1de7865e-583c-48a7-8be9-5eef25f2cfc1"
      },
      "execution_count": 21,
      "outputs": [
        {
          "output_type": "display_data",
          "data": {
            "text/plain": [
              "<Figure size 1000x400 with 1 Axes>"
            ],
            "image/png": "[encoded data removed]"
          },
          "metadata": {}
        }
      ]
    },
    {
      "cell_type": "code",
      "source": [
        "# List of columns we want to handle outliers for\n",
        "target_cols = ['Landsize', 'Price']\n",
        "\n",
        "for col in target_cols:\n",
        "    if col in df_cleaned.columns:   # Only process if column exists\n",
        "        Q1 = df_cleaned[col].quantile(0.25)\n",
        "        Q3 = df_cleaned[col].quantile(0.75)\n",
        "        IQR = Q3 - Q1\n",
        "        lower_bound = Q1 - 1.5 * IQR\n",
        "        upper_bound = Q3 + 1.5 * IQR\n",
        "\n",
        "        # Capping the outliers\n",
        "        df_cleaned[col] = np.where(df_cleaned[col] > upper_bound, upper_bound,\n",
        "                               np.where(df_cleaned[col] < lower_bound, lower_bound, df_cleaned[col]))\n",
        "\n",
        "        # Visualize after capping\n",
        "        plt.figure(figsize=(10, 4))\n",
        "        sns.boxplot(x=df_cleaned[col])\n",
        "        plt.title(f'Boxplot of {col} After Outlier Handling')\n",
        "        plt.show()\n"
      ],
      "metadata": {
        "colab": {
          "base_uri": "https://localhost:8080/",
          "height": 410
        },
        "id": "wVzxHsnUx8en",
        "outputId": "90942ffd-3d38-450e-c15e-761108febd02"
      },
      "execution_count": 23,
      "outputs": [
        {
          "output_type": "display_data",
          "data": {
            "text/plain": [
              "<Figure size 1000x400 with 1 Axes>"
            ],
            "image/png": "[encoded data removed]"
          },
          "metadata": {}
        }
      ]
    }
  ]
}