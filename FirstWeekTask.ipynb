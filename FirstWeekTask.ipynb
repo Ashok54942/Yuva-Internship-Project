{
  "nbformat": 4,
  "nbformat_minor": 0,
  "metadata": {
    "colab": {
      "provenance": []
    },
    "kernelspec": {
      "name": "python3",
      "display_name": "Python 3"
    },
    "language_info": {
      "name": "python"
    }
  },
  "cells": [
    {
      "cell_type": "code",
      "execution_count": 1,
      "metadata": {
        "colab": {
          "base_uri": "https://localhost:8080/"
        },
        "id": "Rh3XJpyPdkdG",
        "outputId": "7144cc56-5bb4-40d0-d3ef-3b32a36b7380"
      },
      "outputs": [
        {
          "output_type": "stream",
          "name": "stdout",
          "text": [
            "Mounted at /content/drive\n"
          ]
        }
      ],
      "source": [
        "from google.colab import drive\n",
        "drive.mount('/content/drive')"
      ]
    },
    {
      "cell_type": "code",
      "source": [
        "# 1. IMPORT LIBRARIES\n",
        "import pandas as pd\n",
        "import numpy as np\n",
        "import seaborn as sns\n",
        "import matplotlib.pyplot as plt\n",
        "\n",
        "print(\"Libraries imported successfully!\")\n",
        "\n",
        "# 2. LOAD THE DATA\n",
        "# This 'try-except' block will prevent the 'NameError' by checking if the file exists.\n",
        "file_path = '/content/drive/MyDrive/MELBOURNE_HOUSE_PRICES_LESS.csv'\n",
        "df = None\n",
        "try:\n",
        "    df = pd.read_csv(file_path)\n",
        "    print(f\"Dataset '{file_path}' loaded successfully.\")\n",
        "    print(f\"Original shape: {df.shape}\")\n",
        "except FileNotFoundError:\n",
        "    print(f\"--- ERROR ---\")\n",
        "    print(f\"The file '{file_path}' was not found. Please upload it to your Colab session.\")\n",
        "    print(\"The rest of the script will not run until the file is available.\")\n",
        "\n",
        "# 3. RUN CLEANING ONLY IF THE DATAFRAME WAS LOADED SUCCESSFULLY\n",
        "if df is not None:\n",
        "    # --- DATA CLEANING AND PREPROCESSING ---\n",
        "    print(\"\\n--- Starting Data Cleaning ---\")\n",
        "\n",
        "    # Strategy 1: Drop columns with more than 40% missing values\n",
        "    missing_percentage = df.isnull().sum() / len(df) * 100\n",
        "    cols_to_drop = missing_percentage[missing_percentage > 40].keys()\n",
        "    df_cleaned = df.drop(columns=cols_to_drop)\n",
        "    print(f\"\\nDropped columns with high missing values: {list(cols_to_drop)}\")\n",
        "\n",
        "    # Strategy 2: Drop rows where the target 'Price' is missing\n",
        "    df_cleaned.dropna(subset=['Price'], inplace=True)\n",
        "    print(f\"Shape after dropping rows with missing Price: {df_cleaned.shape}\")\n",
        "\n",
        "    # Strategy 3: Impute remaining missing values\n",
        "    # Numerical columns get the median\n",
        "    for col in ['Bathroom', 'Car', 'Lattitude', 'Longtitude']:\n",
        "        if col in df_cleaned.columns:\n",
        "            median_val = df_cleaned[col].median()\n",
        "            df_cleaned[col].fillna(median_val, inplace=True)\n",
        "\n",
        "    # Categorical columns get the mode\n",
        "    for col in ['CouncilArea', 'Regionname']:\n",
        "        if col in df_cleaned.columns:\n",
        "            mode_val = df_cleaned[col].mode()[0]\n",
        "            df_cleaned[col].fillna(mode_val, inplace=True)\n",
        "\n",
        "    print(\"\\nMissing values have been imputed.\")\n",
        "    # Verify no missing values are left\n",
        "    print(\"Remaining missing values per column:\\n\", df_cleaned.isnull().sum())\n",
        "\n",
        "    # --- CORRECTING DATA TYPES ---\n",
        "    print(\"\\n--- Correcting Data Types ---\")\n",
        "    df_cleaned['Date'] = pd.to_datetime(df_cleaned['Date'], format='%d/%m/%Y')\n",
        "\n",
        "    for col in ['Bathroom', 'Car', 'Postcode', 'Propertycount']:\n",
        "        if col in df_cleaned.columns:\n",
        "            df_cleaned[col] = df_cleaned[col].astype(int)\n",
        "\n",
        "    print(\"Data types corrected. New info:\")\n",
        "    df_cleaned.info()\n",
        "\n",
        "    # --- FEATURE ENGINEERING ---\n",
        "    print(\"\\n--- Starting Feature Engineering ---\")\n",
        "    # Let's create a new feature: Age of the house\n",
        "    # We will use a reference date of 2018-01-01, as our data is from before then\n",
        "    current_date = pd.to_datetime('2018-01-01')\n",
        "    df_cleaned['Age_of_House'] = (current_date - df_cleaned['Date']).dt.days / 365.25\n",
        "    print(\"New feature 'Age_of_House' created.\")\n",
        "    print(df_cleaned[['Date', 'Age_of_House']].head())\n",
        "\n",
        "    # --- HANDLING OUTLIERS ---\n",
        "    print(\"\\n--- Handling Outliers ---\")\n",
        "\n",
        "    # Visualize 'Price' before capping\n",
        "    plt.figure(figsize=(12, 5))\n",
        "    plt.subplot(1, 2, 1) # 1 row, 2 columns, 1st subplot\n",
        "    sns.boxplot(x=df_cleaned['Price'])\n",
        "    plt.title('Boxplot of Price (Before)')\n",
        "    print(\"Displaying boxplot for 'Price' before outlier capping...\")\n",
        "\n",
        "    # Capping logic using IQR\n",
        "    for col in ['Price']:\n",
        "        Q1 = df_cleaned[col].quantile(0.25)\n",
        "        Q3 = df_cleaned[col].quantile(0.75)\n",
        "        IQR = Q3 - Q1\n",
        "        lower_bound = Q1 - 1.5 * IQR\n",
        "        upper_bound = Q3 + 1.5 * IQR\n",
        "        df_cleaned[col] = np.where(df_cleaned[col] > upper_bound, upper_bound,\n",
        "                                   np.where(df_cleaned[col] < lower_bound, lower_bound, df_cleaned[col]))\n",
        "\n",
        "    print(\"Outliers have been capped for 'Price' using the IQR method.\")\n",
        "\n",
        "    # Visualize 'Price' after capping\n",
        "    plt.subplot(1, 2, 2) # 1 row, 2 columns, 2nd subplot\n",
        "    sns.boxplot(x=df_cleaned['Price'])\n",
        "    plt.title('Boxplot of Price (After)')\n",
        "    plt.tight_layout()\n",
        "    plt.show()\n",
        "\n",
        "    # --- FINAL RESULT ---\n",
        "    print(\"\\n--- Preprocessing Complete! ✨ ---\")\n",
        "    print(\"\\nFinal shape of the cleaned dataset:\", df_cleaned.shape)\n",
        "    print(\"\\nFirst 5 rows of the final, clean dataset:\")\n",
        "    print(df_cleaned.head())"
      ],
      "metadata": {
        "colab": {
          "base_uri": "https://localhost:8080/",
          "height": 1000
        },
        "id": "WEZKVzhuep9r",
        "outputId": "e6d6403d-796b-43bc-c069-570ab5a29557"
      },
      "execution_count": 3,
      "outputs": [
        {
          "output_type": "stream",
          "name": "stdout",
          "text": [
            "Libraries imported successfully!\n",
            "Dataset '/content/drive/MyDrive/MELBOURNE_HOUSE_PRICES_LESS.csv' loaded successfully.\n",
            "Original shape: (63023, 13)\n",
            "\n",
            "--- Starting Data Cleaning ---\n",
            "\n",
            "Dropped columns with high missing values: []\n",
            "Shape after dropping rows with missing Price: (48433, 13)\n",
            "\n",
            "Missing values have been imputed.\n"
          ]
        },
        {
          "output_type": "stream",
          "name": "stderr",
          "text": [
            "/tmp/ipython-input-1977346886.py:48: FutureWarning: A value is trying to be set on a copy of a DataFrame or Series through chained assignment using an inplace method.\n",
            "The behavior will change in pandas 3.0. This inplace method will never work because the intermediate object on which we are setting values always behaves as a copy.\n",
            "\n",
            "For example, when doing 'df[col].method(value, inplace=True)', try using 'df.method({col: value}, inplace=True)' or df[col] = df[col].method(value) instead, to perform the operation inplace on the original object.\n",
            "\n",
            "\n",
            "  df_cleaned[col].fillna(mode_val, inplace=True)\n"
          ]
        },
        {
          "output_type": "stream",
          "name": "stdout",
          "text": [
            "Remaining missing values per column:\n",
            " Suburb           0\n",
            "Address          0\n",
            "Rooms            0\n",
            "Type             0\n",
            "Price            0\n",
            "Method           0\n",
            "SellerG          0\n",
            "Date             0\n",
            "Postcode         0\n",
            "Regionname       0\n",
            "Propertycount    0\n",
            "Distance         0\n",
            "CouncilArea      0\n",
            "dtype: int64\n",
            "\n",
            "--- Correcting Data Types ---\n",
            "Data types corrected. New info:\n",
            "<class 'pandas.core.frame.DataFrame'>\n",
            "Index: 48433 entries, 0 to 63020\n",
            "Data columns (total 13 columns):\n",
            " #   Column         Non-Null Count  Dtype         \n",
            "---  ------         --------------  -----         \n",
            " 0   Suburb         48433 non-null  object        \n",
            " 1   Address        48433 non-null  object        \n",
            " 2   Rooms          48433 non-null  int64         \n",
            " 3   Type           48433 non-null  object        \n",
            " 4   Price          48433 non-null  float64       \n",
            " 5   Method         48433 non-null  object        \n",
            " 6   SellerG        48433 non-null  object        \n",
            " 7   Date           48433 non-null  datetime64[ns]\n",
            " 8   Postcode       48433 non-null  int64         \n",
            " 9   Regionname     48433 non-null  object        \n",
            " 10  Propertycount  48433 non-null  int64         \n",
            " 11  Distance       48433 non-null  float64       \n",
            " 12  CouncilArea    48433 non-null  object        \n",
            "dtypes: datetime64[ns](1), float64(2), int64(3), object(7)\n",
            "memory usage: 5.2+ MB\n",
            "\n",
            "--- Starting Feature Engineering ---\n",
            "New feature 'Age_of_House' created.\n",
            "        Date  Age_of_House\n",
            "0 2017-04-01      0.752909\n",
            "1 2017-04-01      0.752909\n",
            "2 2017-04-01      0.752909\n",
            "3 2017-04-01      0.752909\n",
            "4 2017-04-01      0.752909\n",
            "\n",
            "--- Handling Outliers ---\n",
            "Displaying boxplot for 'Price' before outlier capping...\n",
            "Outliers have been capped for 'Price' using the IQR method.\n"
          ]
        },
        {
          "output_type": "display_data",
          "data": {
            "text/plain": [
              "<Figure size 1200x500 with 2 Axes>"
            ],
            "image/png": "[encoded data removed]"
          },
          "metadata": {}
        },
        {
          "output_type": "stream",
          "name": "stdout",
          "text": [
            "\n",
            "--- Preprocessing Complete! ✨ ---\n",
            "\n",
            "Final shape of the cleaned dataset: (48433, 14)\n",
            "\n",
            "First 5 rows of the final, clean dataset:\n",
            "         Suburb           Address  Rooms Type      Price Method   SellerG  \\\n",
            "0    Abbotsford     49 Lithgow St      3    h  1490000.0      S    Jellis   \n",
            "1    Abbotsford     59A Turner St      3    h  1220000.0      S  Marshall   \n",
            "2    Abbotsford     119B Yarra St      3    h  1420000.0      S    Nelson   \n",
            "3    Aberfeldie        68 Vida St      3    h  1515000.0      S     Barry   \n",
            "4  Airport West  92 Clydesdale Rd      2    h   670000.0      S    Nelson   \n",
            "\n",
            "        Date  Postcode             Regionname  Propertycount  Distance  \\\n",
            "0 2017-04-01      3067  Northern Metropolitan           4019       3.0   \n",
            "1 2017-04-01      3067  Northern Metropolitan           4019       3.0   \n",
            "2 2017-04-01      3067  Northern Metropolitan           4019       3.0   \n",
            "3 2017-04-01      3040   Western Metropolitan           1543       7.5   \n",
            "4 2017-04-01      3042   Western Metropolitan           3464      10.4   \n",
            "\n",
            "                  CouncilArea  Age_of_House  \n",
            "0          Yarra City Council      0.752909  \n",
            "1          Yarra City Council      0.752909  \n",
            "2          Yarra City Council      0.752909  \n",
            "3  Moonee Valley City Council      0.752909  \n",
            "4  Moonee Valley City Council      0.752909  \n"
          ]
        }
      ]
    }
  ]
}